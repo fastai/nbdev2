{
 "cells": [
  {
   "cell_type": "code",
   "execution_count": 1,
   "id": "e88ab9af-346a-42b8-a7e0-dc581e833767",
   "metadata": {},
   "outputs": [],
   "source": [
    "#|default_exp showdoc"
   ]
  },
  {
   "cell_type": "markdown",
   "id": "17dc4b5e-5c6c-41ab-8094-83fb2366b65c",
   "metadata": {},
   "source": [
    "# ShowDoc: Document Classes and Functions\n",
    "> Document your APIs, leveraging `docments` or numpy-style docstrings."
   ]
  },
  {
   "cell_type": "code",
   "execution_count": 2,
   "id": "16402c8e-90aa-4722-8df3-c32159b31097",
   "metadata": {},
   "outputs": [],
   "source": [
    "#export\n",
    "from numpydoc.docscrape import ClassDoc, FunctionDoc, Parameter\n",
    "from fastcore.xtras import get_source_link\n",
    "import inspect, warnings\n",
    "from nbdev.showdoc import get_config\n",
    "from functools import partial\n",
    "from lxml import etree, html"
   ]
  },
  {
   "cell_type": "code",
   "execution_count": 3,
   "id": "500c5093-f954-46d9-b1b0-7e410f7b7122",
   "metadata": {},
   "outputs": [],
   "source": [
    "#hide\n",
    "import test_lib.example as ex\n",
    "from fastcore.test import test_eq, test\n",
    "from xml.etree import ElementTree as et\n",
    "\n",
    "def _is_valid_html(xml:str):\n",
    "    \"Determine if html is valid or not.\"\n",
    "    try: et.fromstring(xml)\n",
    "    except et.ParseError as e: \n",
    "        print(f\"WARNING: xml not does not parse:{e}\")\n",
    "        return False\n",
    "    return True"
   ]
  },
  {
   "cell_type": "code",
   "execution_count": 4,
   "id": "0ebd36a5-db93-4f14-b413-fd4f996bc02e",
   "metadata": {},
   "outputs": [],
   "source": [
    "def _param_desc(p:Parameter):\n",
    "    desc = '<br>'.join(getattr(p, 'desc')).encode('unicode_escape').decode('utf-8').strip()\n",
    "    if desc: return f\"<dd>{desc}</dd>\"\n",
    "    else: return ''\n",
    "\n",
    "def _param_hdr(p:Parameter):\n",
    "    name,typ = getattr(p,'name'), getattr(p,'type')\n",
    "    htyp = f'<span>:  </span><span class=\"np_param_type\">{typ}</span>' if typ else ''\n",
    "    return f'<dt><strong class=\"np_param_name\">{name}</strong>{htyp}</dt>'\n",
    "\n",
    "def _html(s): return etree.tostring(html.fromstring(s), encoding='unicode', pretty_print=True)"
   ]
  },
  {
   "cell_type": "code",
   "execution_count": 5,
   "id": "78c3af35-e969-4f39-a7f9-68b76eee3b35",
   "metadata": {},
   "outputs": [],
   "source": [
    "#export\n",
    "def param2HTML(p:Parameter):\n",
    "    \"Format a numpydoc.docscrape.Parameter.\"\n",
    "    return _html(f'<div class=\"np_param\">{_param_hdr(p) + _param_desc(p)}</div>') "
   ]
  },
  {
   "cell_type": "markdown",
   "id": "823b1285-4ea9-4c47-b0f6-30ce198903a0",
   "metadata": {},
   "source": [
    "`param2HTML` parses a `numpydoc.docscrape.Parameter` and generates HTML that can render it:"
   ]
  },
  {
   "cell_type": "code",
   "execution_count": 6,
   "id": "fb3a4dc4-1cfa-460a-b7c1-4ac4be43765c",
   "metadata": {},
   "outputs": [
    {
     "name": "stdout",
     "output_type": "stream",
     "text": [
      "<div class=\"np_param\">\n",
      "  <dt>\n",
      "    <strong class=\"np_param_name\">param1</strong>\n",
      "    <span>:  </span>\n",
      "    <span class=\"np_param_type\">int</span>\n",
      "  </dt>\n",
      "  <dd>The first parameter. something something<br/>second line. foo</dd>\n",
      "</div>\n",
      "\n"
     ]
    }
   ],
   "source": [
    "_fd = FunctionDoc(ex.function_with_types_in_docstring)\n",
    "_param = _fd['Parameters'][0]\n",
    "_param_html = param2HTML(_param)\n",
    "\n",
    "print(_param_html)"
   ]
  },
  {
   "cell_type": "code",
   "execution_count": 7,
   "id": "0021b66c-95ce-46da-9394-1a9016e810be",
   "metadata": {},
   "outputs": [],
   "source": [
    "#hide\n",
    "_correct_result = \"\"\"<div class=\"np_param\">\n",
    "  <dt>\n",
    "    <strong class=\"np_param_name\">param1</strong>\n",
    "    <span>:  </span>\n",
    "    <span class=\"np_param_type\">int</span>\n",
    "  </dt>\n",
    "  <dd>The first parameter. something something<br/>second line. foo</dd>\n",
    "</div>\n",
    "\"\"\"\n",
    "\n",
    "test_eq(_param_html, _correct_result)\n",
    "assert _is_valid_html(_param_html)"
   ]
  }
 ],
 "metadata": {
  "kernelspec": {
   "display_name": "Python 3 (ipykernel)",
   "language": "python",
   "name": "python3"
  },
  "language_info": {
   "codemirror_mode": {
    "name": "ipython",
    "version": 3
   },
   "file_extension": ".py",
   "mimetype": "text/x-python",
   "name": "python",
   "nbconvert_exporter": "python",
   "pygments_lexer": "ipython3",
   "version": "3.9.7"
  }
 },
 "nbformat": 4,
 "nbformat_minor": 5
}
