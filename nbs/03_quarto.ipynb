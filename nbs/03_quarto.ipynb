{
 "cells": [
  {
   "cell_type": "code",
   "execution_count": 1,
   "id": "510ed03d-0c3b-4caf-910d-e6eaec08fd63",
   "metadata": {},
   "outputs": [],
   "source": [
    "#|default_exp quarto"
   ]
  },
  {
   "cell_type": "code",
   "execution_count": 2,
   "id": "3191cc5f-3119-4cf7-baf7-774d0f70cf99",
   "metadata": {},
   "outputs": [],
   "source": [
    "#|export\n",
    "from __future__ import annotations\n",
    "import json\n",
    "\n",
    "from nbprocess.read import *\n",
    "from nbprocess.sync import *\n",
    "from nbprocess.process import *\n",
    "from nbprocess.processors import *\n",
    "from fastcore.imports import *\n",
    "from fastcore.all import Path,parallel,call_parse,bool_arg,globtastic"
   ]
  },
  {
   "cell_type": "markdown",
   "id": "82f1d405-9652-4991-9a2c-24cae862ce46",
   "metadata": {},
   "source": [
    "# Quarto filter\n",
    "\n",
    "> Filter for quarto processing"
   ]
  },
  {
   "cell_type": "code",
   "execution_count": 3,
   "id": "c3b89ff6",
   "metadata": {},
   "outputs": [],
   "source": [
    "#|export\n",
    "def default_procs():\n",
    "    \"Default Preprocessors for export\"\n",
    "    return [strip_ansi, meta_, hide_line, filter_stream_, clean_magics,\n",
    "            bash_identify, rm_header_dash, rm_export, clean_show_doc, remove_]"
   ]
  },
  {
   "cell_type": "code",
   "execution_count": 4,
   "id": "55903cf1",
   "metadata": {},
   "outputs": [],
   "source": [
    "#|export\n",
    "def default_preprocs():\n",
    "    \"Default Preprocessors for export\"\n",
    "    return [insert_warning]"
   ]
  },
  {
   "cell_type": "code",
   "execution_count": 5,
   "id": "0ce7675e",
   "metadata": {},
   "outputs": [],
   "source": [
    "#|export\n",
    "def filter_quarto(s=None):\n",
    "    printit = False\n",
    "    if not s:\n",
    "        s = sys.stdin.read()\n",
    "        printit = True\n",
    "    nb = dict2nb(json.loads(s))\n",
    "    nbp = NBProcessor(nb=nb, procs=default_procs(), preprocs=default_preprocs())\n",
    "    nbp.process()\n",
    "    res = nb2str(nb)\n",
    "    if printit: print(res)\n",
    "    else: return res"
   ]
  },
  {
   "cell_type": "code",
   "execution_count": 6,
   "id": "0120d0c8",
   "metadata": {},
   "outputs": [],
   "source": [
    "s = Path('../tests/docs_test.ipynb').read_text()\n",
    "res = filter_quarto(s)"
   ]
  },
  {
   "cell_type": "markdown",
   "id": "aa35b010",
   "metadata": {},
   "source": [
    "## Export -"
   ]
  },
  {
   "cell_type": "code",
   "execution_count": 7,
   "id": "3d8031ce",
   "metadata": {},
   "outputs": [],
   "source": [
    "#skip\n",
    "from nbprocess.export import nbs_export\n",
    "nbs_export()"
   ]
  },
  {
   "cell_type": "code",
   "execution_count": null,
   "id": "43fd1f75",
   "metadata": {},
   "outputs": [],
   "source": []
  }
 ],
 "metadata": {
  "kernelspec": {
   "display_name": "Python 3 (ipykernel)",
   "language": "python",
   "name": "python3"
  },
  "language_info": {
   "codemirror_mode": {
    "name": "ipython",
    "version": 3
   },
   "file_extension": ".py",
   "mimetype": "text/x-python",
   "name": "python",
   "nbconvert_exporter": "python",
   "pygments_lexer": "ipython3",
   "version": "3.9.5"
  }
 },
 "nbformat": 4,
 "nbformat_minor": 5
}
