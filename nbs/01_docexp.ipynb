{
 "cells": [
  {
   "cell_type": "code",
   "execution_count": 1,
   "id": "79ed0425-068a-4e9e-8ccf-245039ae8698",
   "metadata": {},
   "outputs": [],
   "source": [
    "#default_exp docexp"
   ]
  },
  {
   "cell_type": "markdown",
   "id": "1a07b01c",
   "metadata": {},
   "source": [
    "# Preprocessors for markdown export\n",
    "\n",
    "> Custom preprocessors that help convert notebook content into markdown"
   ]
  },
  {
   "cell_type": "code",
   "execution_count": 2,
   "id": "ec9908ec",
   "metadata": {},
   "outputs": [],
   "source": [
    "# export\n",
    "import re,uuid,os\n",
    "from functools import wraps\n",
    "from fastcore.basics import *\n",
    "from fastcore.foundation import *\n",
    "from traitlets.config import Config\n",
    "from pathlib import Path\n",
    "from html.parser import HTMLParser\n",
    "\n",
    "from nbprocess.read import get_config\n",
    "\n",
    "from nbconvert.preprocessors import ExtractOutputPreprocessor,Preprocessor,TagRemovePreprocessor\n",
    "from nbconvert import MarkdownExporter\n",
    "from nbprocess.extract_attachments import ExtractAttachmentsPreprocessor\n",
    "from nbconvert.writers import FilesWriter"
   ]
  },
  {
   "cell_type": "code",
   "execution_count": 3,
   "id": "e96e0515",
   "metadata": {},
   "outputs": [],
   "source": [
    "#hide\n",
    "from nbprocess.export import read_nb\n",
    "from nbconvert import NotebookExporter\n",
    "import json\n",
    "\n",
    "__file__ = '../nbdev2/export.py'\n",
    "_test_file = '../tests/docs_test.ipynb'"
   ]
  },
  {
   "cell_type": "markdown",
   "id": "d8628288",
   "metadata": {},
   "source": [
    "## Preprocessor decorators"
   ]
  },
  {
   "cell_type": "code",
   "execution_count": 4,
   "id": "ed4c0f18",
   "metadata": {},
   "outputs": [],
   "source": [
    "#export\n",
    "def default_pp_cfg():\n",
    "    \"Default Preprocessor Config for MDX export\"\n",
    "    c = Config()\n",
    "    c.TagRemovePreprocessor.remove_cell_tags = (\"remove_cell\", \"hide\")\n",
    "    c.TagRemovePreprocessor.remove_all_outputs_tags = (\"remove_output\", \"remove_outputs\", \"hide_output\", \"hide_outputs\")\n",
    "    c.TagRemovePreprocessor.remove_input_tags = ('remove_input', 'remove_inputs', \"hide_input\", \"hide_inputs\")\n",
    "    c.Exporter.optimistic_validation = True\n",
    "    return c"
   ]
  },
  {
   "cell_type": "code",
   "execution_count": 5,
   "id": "59472dfb",
   "metadata": {},
   "outputs": [],
   "source": [
    "#export\n",
    "def preprocess_cell(func):\n",
    "    \"Decorator to create a `preprocess_cell` `Preprocessor` for cells\"\n",
    "    @wraps(func, updated=())\n",
    "    class _C(Preprocessor):\n",
    "        def preprocess_cell(self, cell, resources, index):\n",
    "            res = func(cell)\n",
    "            if res: cell = res\n",
    "            return cell, resources\n",
    "    return _C"
   ]
  },
  {
   "cell_type": "code",
   "execution_count": 6,
   "id": "32072a15",
   "metadata": {},
   "outputs": [],
   "source": [
    "#export\n",
    "def preprocess(func):\n",
    "    \"Decorator to create a `preprocess` `Preprocessor` for notebooks\"\n",
    "    @wraps(func, updated=())\n",
    "    class _C(Preprocessor):\n",
    "        def preprocess(self, nb, resources):\n",
    "            res = func(nb)\n",
    "            if res: nb = res\n",
    "            nb.cells = list(nb.cells)\n",
    "            return nb, resources\n",
    "    return _C"
   ]
  },
  {
   "cell_type": "code",
   "execution_count": 7,
   "id": "d54c923d",
   "metadata": {},
   "outputs": [],
   "source": [
    "#export\n",
    "def preprocess_rm_cell(func):\n",
    "    \"Like `preprocess_cell` but remove cells where function returns `True`\"\n",
    "    @preprocess\n",
    "    def _inner(nb): nb.cells = [cell for cell in nb.cells if not func(cell)]\n",
    "    return _inner"
   ]
  },
  {
   "cell_type": "code",
   "execution_count": 8,
   "id": "97974f22",
   "metadata": {},
   "outputs": [],
   "source": [
    "#export\n",
    "default_tpl = 'nb.md.j2'\n",
    "from nbconvert.exporters.templateexporter import TemplateExporter\n",
    "\n",
    "def _doc_exporter(pps, cfg=None, tpl_file=default_tpl, tpl_path=None):\n",
    "    cfg = cfg or default_pp_cfg()\n",
    "    cfg.MarkdownExporter.preprocessors = pps or []\n",
    "    if tpl_path is None: tpl_path = (Path(__file__).parent/'tpl').resolve()\n",
    "    cfg.MarkdownExporter.extra_template_paths = [str(tpl_path)]\n",
    "    cfg.MarkdownExporter.template_file = tpl_file\n",
    "    return MarkdownExporter(config=cfg)"
   ]
  },
  {
   "cell_type": "code",
   "execution_count": 9,
   "id": "b9d78497",
   "metadata": {},
   "outputs": [],
   "source": [
    "#export\n",
    "def _run_preprocessor(pps, fname, display=False):\n",
    "    exp = _doc_exporter(pps)\n",
    "    result = exp.from_filename(fname)\n",
    "    if display: print(result[0])\n",
    "    return result"
   ]
  },
  {
   "cell_type": "markdown",
   "id": "0c2e8801",
   "metadata": {
    "heading_collapsed": true
   },
   "source": [
    "## Cell Tag Cheatsheet"
   ]
  },
  {
   "cell_type": "markdown",
   "id": "fb1a8652",
   "metadata": {
    "hidden": true
   },
   "source": [
    "These preprocessors allow you to make special comments to enable/disable them.  Here is a list of all special comments:\n",
    "\n",
    "All comments start with `#meta` or `#cell_meta`, which are both aliases for the same thing.  For brevity, we will use `#meta` in this cheatsheet."
   ]
  },
  {
   "cell_type": "markdown",
   "id": "31c10a4d",
   "metadata": {
    "heading_collapsed": true,
    "hidden": true
   },
   "source": [
    "### Show/Hide Cells"
   ]
  },
  {
   "cell_type": "markdown",
   "id": "00c0c0b1-df9b-4b5a-9a31-f741a69f900e",
   "metadata": {
    "hidden": true
   },
   "source": [
    "1. Remove entire cells:  `#meta:tag=remove_cell` or `#meta:tag=hide`\n",
    "2. Remove output: `#meta:tag=remove_output` or `#meta:tag=remove_output` or `#meta:tag=hide_outputs` or `#meta:tag=hide_output`\n",
    "3. Remove input: same as above, except `input` instead of `output`."
   ]
  },
  {
   "cell_type": "markdown",
   "id": "94fe7e9d-76f1-4023-b038-a001e77bfa2c",
   "metadata": {},
   "source": [
    "## Injecting Metadata Into Cells -"
   ]
  },
  {
   "cell_type": "code",
   "execution_count": 10,
   "id": "d724801a",
   "metadata": {},
   "outputs": [],
   "source": [
    "#export\n",
    "_re_meta= r'^\\s*#(?:cell_meta|meta):\\S+\\s*[\\n\\r]'\n",
    "\n",
    "@preprocess_cell\n",
    "def InjectMeta(cell):\n",
    "    \"Inject metadata into a cell for further preprocessing with a comment.\"\n",
    "    _pattern = r'(^\\s*#(?:cell_meta|meta):)(\\S+)(\\s*[\\n\\r])'\n",
    "    if cell.cell_type == 'code' and re.search(_re_meta, cell.source, flags=re.MULTILINE):\n",
    "        cell_meta = re.findall(_pattern, cell.source, re.MULTILINE)\n",
    "        d = cell.metadata.get('nbprocess', {})\n",
    "        for _, m, _ in cell_meta:\n",
    "            if '=' in m:\n",
    "                k,v = m.split('=')\n",
    "                d[k] = v\n",
    "            else: print(f\"Warning cell_meta:{m} does not have '=' will be ignored.\")\n",
    "        cell.metadata['nbprocess'] = d"
   ]
  },
  {
   "cell_type": "code",
   "execution_count": 11,
   "id": "ae6e3497",
   "metadata": {},
   "outputs": [],
   "source": [
    "#export\n",
    "@preprocess_cell\n",
    "def ShowMeta(cell):\n",
    "    \"Show cell metadata\"\n",
    "    meta = cell.metadata.get('nbprocess')\n",
    "    if meta: print(meta)"
   ]
  },
  {
   "cell_type": "markdown",
   "id": "109942b9-6af1-4bee-b1fe-e5677857d151",
   "metadata": {},
   "source": [
    "To inject metadata make a comment in a cell with the following pattern: `#cell_meta:{key=value}`. Note that `#meta` is an alias for `#cell_meta`\n",
    "\n",
    "For example, at the moment, this notebook has no cells with metadata, which we can see b using `ShowMeta`:"
   ]
  },
  {
   "cell_type": "code",
   "execution_count": 12,
   "id": "90d60081-e886-467a-9f53-b64a1f3bd4d7",
   "metadata": {},
   "outputs": [],
   "source": [
    "_test_file = '../tests/docs_test.ipynb'\n",
    "_run_preprocessor([ShowMeta], _test_file);"
   ]
  },
  {
   "cell_type": "markdown",
   "id": "d739a476-b659-4e4b-93db-c3df2fc11b33",
   "metadata": {},
   "source": [
    "However, after we process this notebook with `InjectMeta`, the appropriate metadata will be injected:"
   ]
  },
  {
   "cell_type": "code",
   "execution_count": 13,
   "id": "34ff9a0b",
   "metadata": {
    "scrolled": true
   },
   "outputs": [
    {
     "name": "stdout",
     "output_type": "stream",
     "text": [
      "{'show_steps': 'start,train'}\n",
      "{'tag': 'remove_output'}\n",
      "{'tag': 'remove_input'}\n",
      "{'tag': 'remove_cell'}\n",
      "{'tags': 'remove_input,remove_output'}\n",
      "{'filter_words': 'FutureWarning,MultiIndex'}\n"
     ]
    }
   ],
   "source": [
    "c, _ = _run_preprocessor([InjectMeta, ShowMeta], _test_file)"
   ]
  },
  {
   "cell_type": "markdown",
   "id": "7011576a-978f-4851-88d3-6cbbc23fbf07",
   "metadata": {
    "heading_collapsed": true
   },
   "source": [
    "## Strip Ansi Characters From Output -"
   ]
  },
  {
   "cell_type": "code",
   "execution_count": 14,
   "id": "84073fa6-5907-41f2-b8b8-568a96112fbd",
   "metadata": {
    "hidden": true
   },
   "outputs": [],
   "source": [
    "#export\n",
    "_re_ansi_escape = re.compile(r'\\x1B(?:[@-Z\\\\-_]|\\[[0-?]*[ -/]*[@-~])')\n",
    "\n",
    "@preprocess_cell\n",
    "def StripAnsi(cell):\n",
    "    \"Strip Ansi Characters.\"\n",
    "    for o in cell.get('outputs', []):\n",
    "        if o.get('name') == 'stdout': o['text'] = _re_ansi_escape.sub('', o.text)"
   ]
  },
  {
   "cell_type": "markdown",
   "id": "463b9def-91ad-4b05-92c3-e074954e4faf",
   "metadata": {
    "hidden": true
   },
   "source": [
    "Gets rid of colors that are streamed from standard out, which can interfere with static site generators:"
   ]
  },
  {
   "cell_type": "code",
   "execution_count": 15,
   "id": "c54afbf8-a50b-4a97-a7f5-1a78cba6da13",
   "metadata": {
    "hidden": true
   },
   "outputs": [],
   "source": [
    "c, _ = _run_preprocessor([StripAnsi], _test_file)\n",
    "assert not _re_ansi_escape.findall(c)"
   ]
  },
  {
   "cell_type": "markdown",
   "id": "ece9c1a2-b339-4857-8e5a-a3a06577ad4a",
   "metadata": {
    "heading_collapsed": true
   },
   "source": [
    "## Insert Warning Into Markdown -"
   ]
  },
  {
   "cell_type": "code",
   "execution_count": 16,
   "id": "3d28fc80",
   "metadata": {
    "hidden": true
   },
   "outputs": [],
   "source": [
    "# export\n",
    "@preprocess\n",
    "def InsertWarning(nb):\n",
    "    \"\"\"Insert Autogenerated Warning Into Notebook after the first cell.\"\"\"\n",
    "    content = \"<!-- WARNING: THIS FILE WAS AUTOGENERATED! DO NOT EDIT! -->\"\n",
    "    mdcell = AttrDict(cell_type='markdown', id=uuid.uuid4().hex[:36], metadata={}, source=content)\n",
    "    nb.cells.insert(1, mdcell)"
   ]
  },
  {
   "cell_type": "markdown",
   "id": "cad52f89-3710-4361-9759-8d5129cdc63d",
   "metadata": {
    "hidden": true
   },
   "source": [
    "This preprocessor inserts a warning in the markdown destination that the file is autogenerated.  This warning is inserted in the second cell so we do not interfere with front matter."
   ]
  },
  {
   "cell_type": "code",
   "execution_count": 17,
   "id": "ccac0945-6725-49e6-94e4-72684bf08417",
   "metadata": {
    "hidden": true
   },
   "outputs": [],
   "source": [
    "c, _ = _run_preprocessor([InsertWarning], _test_file)\n",
    "assert \"<!-- WARNING: THIS FILE WAS AUTOGENERATED!\" in c"
   ]
  },
  {
   "cell_type": "markdown",
   "id": "4d9ac4d3-f82d-4325-94d3-04ede6c351c1",
   "metadata": {
    "heading_collapsed": true
   },
   "source": [
    "## Remove Empty Code Cells -"
   ]
  },
  {
   "cell_type": "code",
   "execution_count": 18,
   "id": "69dea46a-671c-4f87-aaa5-e45a6f3baeb8",
   "metadata": {
    "hidden": true
   },
   "outputs": [],
   "source": [
    "# export\n",
    "def _keepCell(cell): return cell['cell_type'] != 'code' or cell.source.strip()\n",
    "\n",
    "@preprocess\n",
    "def RmEmptyCode(nb):\n",
    "    \"Remove empty code cells.\"\n",
    "    nb.cells = filter(_keepCell,nb.cells)"
   ]
  },
  {
   "cell_type": "code",
   "execution_count": 19,
   "id": "b2e508d6-226c-40cf-99ff-a38d68770daa",
   "metadata": {
    "hidden": true
   },
   "outputs": [],
   "source": [
    "c, _ = _run_preprocessor([RmEmptyCode], _test_file)\n",
    "assert '```python\\n\\n```' not in c"
   ]
  },
  {
   "cell_type": "markdown",
   "id": "269d2ec4-c25a-4144-857c-f59304702a08",
   "metadata": {
    "heading_collapsed": true
   },
   "source": [
    "## Turn Metadata into Cell Tags -"
   ]
  },
  {
   "cell_type": "code",
   "execution_count": 20,
   "id": "09db6f97-cd1f-429c-9366-c685779f0a45",
   "metadata": {
    "hidden": true
   },
   "outputs": [],
   "source": [
    "#export\n",
    "@preprocess_cell\n",
    "def UpdateTags(cell):\n",
    "    root = cell.metadata.get('nbprocess', {})\n",
    "    tags = root.get('tags', root.get('tag')) # allow the singular also\n",
    "    if tags: cell.metadata['tags'] = cell.metadata.get('tags', []) + tags.split(',')"
   ]
  },
  {
   "cell_type": "markdown",
   "id": "e7dc5382-c0c9-4f9e-ac5a-0ad1f3aec1f5",
   "metadata": {
    "hidden": true
   },
   "source": [
    "`UpdateTags` is meant to be used with `InjectMeta` and `TagRemovePreprocessor` to configure the visibility of cells in rendered docs."
   ]
  },
  {
   "cell_type": "code",
   "execution_count": 21,
   "id": "22d2adae-3c45-4044-ab10-b183618ac2c7",
   "metadata": {
    "hidden": true
   },
   "outputs": [],
   "source": [
    "# Configure an exporter from scratch\n",
    "c = Config()\n",
    "c.TagRemovePreprocessor.remove_cell_tags = (\"remove_cell\",)\n",
    "c.TagRemovePreprocessor.remove_all_outputs_tags = ('remove_output',)\n",
    "c.TagRemovePreprocessor.remove_input_tags = ('remove_input',)\n",
    "c.MarkdownExporter.preprocessors = [InjectMeta, UpdateTags, TagRemovePreprocessor]\n",
    "exp = MarkdownExporter(config=c)\n",
    "result = exp.from_filename(_test_file)[0]\n",
    "\n",
    "# show the results\n",
    "assert 'you will not be able to see this cell at all either' not in result"
   ]
  },
  {
   "cell_type": "markdown",
   "id": "0f45fc6d-9730-41f6-8f82-c8ed79d42fbb",
   "metadata": {
    "heading_collapsed": true
   },
   "source": [
    "## Hide Specific Lines of Code -"
   ]
  },
  {
   "cell_type": "code",
   "execution_count": 22,
   "id": "eb415328-044f-44ca-ac77-4f5ae65c2235",
   "metadata": {
    "hidden": true
   },
   "outputs": [],
   "source": [
    "#export\n",
    "@preprocess_cell\n",
    "def HideInputLines(cell):\n",
    "    \"Hide lines of code in code cells with the comment `#meta_hide_line` at the end of a line of code.\"\n",
    "    tok = '#meta_hide_line'\n",
    "    if cell.cell_type == 'code' and tok in cell.source:\n",
    "        cell.source = '\\n'.join([c for c in cell.source.splitlines() if not c.strip().endswith(tok)])"
   ]
  },
  {
   "cell_type": "code",
   "execution_count": 23,
   "id": "20322d06-7adb-4d50-b1d5-b10ec5f5f2ae",
   "metadata": {
    "hidden": true
   },
   "outputs": [],
   "source": [
    "c, _ = _run_preprocessor([InjectMeta, HideInputLines], _test_file)\n",
    "\n",
    "_res = \"\"\"```python\n",
    "def show():\n",
    "    a = 2\n",
    "```\"\"\"\n",
    "assert _res in c"
   ]
  },
  {
   "cell_type": "markdown",
   "id": "0fd9bb20-8a78-4c0f-95ae-d7b029531a9b",
   "metadata": {
    "heading_collapsed": true
   },
   "source": [
    "## Hide Specific Lines of Output With Keywords -"
   ]
  },
  {
   "cell_type": "code",
   "execution_count": 24,
   "id": "97eb41f6-95d3-4312-be6b-d8dc02b114df",
   "metadata": {
    "hidden": true
   },
   "outputs": [],
   "source": [
    "#export\n",
    "@preprocess_cell\n",
    "def FilterOutput(cell):\n",
    "    root = cell.metadata.get('nbprocess', {})\n",
    "    words = root.get('filter_words', root.get('filter_word'))\n",
    "    # import ipdb; ipdb.set_trace()\n",
    "    if 'outputs' in cell and words:\n",
    "        _re = f\"^(?!.*({'|'.join(words.split(','))}))\"\n",
    "        for o in cell.outputs:\n",
    "            if o.name == 'stdout':\n",
    "                filtered_lines = [l for l in o['text'].splitlines() if re.findall(_re, l)]\n",
    "                o['text'] = '\\n'.join(filtered_lines)"
   ]
  },
  {
   "cell_type": "markdown",
   "id": "421ca404-4e50-4305-b484-a4d527b4eb6c",
   "metadata": {
    "hidden": true
   },
   "source": [
    "If we want to exclude output with certain keywords, we can use the `#meta:filter_words` comment.  For example, if we wanted to ignore all output that contains the text `FutureWarning` or `MultiIndex` we can use the comment:\n",
    "\n",
    "`#meta:filter_words=FutureWarning,MultiIndex`"
   ]
  },
  {
   "cell_type": "code",
   "execution_count": 25,
   "id": "96dfdefb-ba07-4ab1-8a23-18e2b27ad707",
   "metadata": {
    "hidden": true
   },
   "outputs": [],
   "source": [
    "c, _ = _run_preprocessor([InjectMeta, FilterOutput], _test_file)\n",
    "_res=\"    A line\\n    Another line.\"\n",
    "assert _res in c"
   ]
  },
  {
   "cell_type": "markdown",
   "id": "1092aa0b-f1f2-4913-b9bc-d6dfb405871c",
   "metadata": {
    "heading_collapsed": true
   },
   "source": [
    "## Clean Flags and Magics -"
   ]
  },
  {
   "cell_type": "code",
   "execution_count": 26,
   "id": "68189e46-881e-4986-bc4b-0c98e037db99",
   "metadata": {
    "hidden": true
   },
   "outputs": [],
   "source": [
    "#export\n",
    "_tst_flags = get_config()['tst_flags'].split('|')\n",
    "\n",
    "@preprocess_cell\n",
    "def CleanFlags(cell):\n",
    "    \"A preprocessor to remove Flags\"\n",
    "    if cell.cell_type != 'code': return\n",
    "    for p in [re.compile(r'^#\\s*{0}\\s*'.format(f), re.MULTILINE) for f in _tst_flags]:\n",
    "        cell.source = p.sub('', cell.source).strip()"
   ]
  },
  {
   "cell_type": "code",
   "execution_count": 27,
   "id": "70f36b41-e14f-4181-b5eb-0f63bbac9f65",
   "metadata": {
    "hidden": true
   },
   "outputs": [],
   "source": [
    "c, _ = _run_preprocessor([CleanFlags], _test_file)\n",
    "assert '#notest' not in c"
   ]
  },
  {
   "cell_type": "code",
   "execution_count": 28,
   "id": "848fd452-3d63-4c41-aaa6-e14cbeb9fdcd",
   "metadata": {
    "hidden": true
   },
   "outputs": [],
   "source": [
    "#export\n",
    "@preprocess_cell\n",
    "def CleanMagics(cell):\n",
    "    \"A preprocessor to remove cell magic commands and #cell_meta: comments\"\n",
    "    pattern = re.compile(r'(^\\s*(%%|%).+?[\\n\\r])|({0})'.format(_re_meta), re.MULTILINE)\n",
    "    if cell.cell_type == 'code': cell.source = pattern.sub('', cell.source).strip()"
   ]
  },
  {
   "cell_type": "markdown",
   "id": "71917138-14f7-4c00-a864-76889b333cd7",
   "metadata": {
    "hidden": true
   },
   "source": [
    "`CleanMagics` strips magic cell commands `%%` so they do not appear in rendered markdown files:"
   ]
  },
  {
   "cell_type": "code",
   "execution_count": 29,
   "id": "386c787c-9623-4d5c-b4c6-9bfcd822fb56",
   "metadata": {
    "hidden": true
   },
   "outputs": [],
   "source": [
    "c, _ = _run_preprocessor([CleanMagics], _test_file)\n",
    "assert '%%' not in c"
   ]
  },
  {
   "cell_type": "markdown",
   "id": "f985181e-e9c2-489a-b59d-f3f8f3fe9051",
   "metadata": {
    "heading_collapsed": true
   },
   "source": [
    "## Format Shell Commands -"
   ]
  },
  {
   "cell_type": "code",
   "execution_count": 30,
   "id": "97249bda-91dd-42ef-9d36-5efc45fad564",
   "metadata": {
    "hidden": true
   },
   "outputs": [],
   "source": [
    "#export\n",
    "@preprocess_cell\n",
    "def BashIdentify(cell):\n",
    "    \"A preprocessor to identify bash commands and mark them appropriately\"\n",
    "    pattern = re.compile('^\\s*!', flags=re.MULTILINE)\n",
    "    if cell.cell_type == 'code' and pattern.search(cell.source):\n",
    "        cell.metadata.magics_language = 'bash'\n",
    "        cell.source = pattern.sub('', cell.source).strip()"
   ]
  },
  {
   "cell_type": "markdown",
   "id": "36ffc28f-1735-48ac-942a-74c692afa99b",
   "metadata": {
    "hidden": true
   },
   "source": [
    "When we issue a shell command in a notebook with `!`, we need to change the code-fence from `python` to `bash` and remove the `!`:"
   ]
  },
  {
   "cell_type": "code",
   "execution_count": 31,
   "id": "98afbdae-b121-4631-a4ea-69b339b8a077",
   "metadata": {
    "hidden": true
   },
   "outputs": [],
   "source": [
    "c, _ = _run_preprocessor([BashIdentify], _test_file)\n",
    "assert \"```bash\" in c"
   ]
  },
  {
   "cell_type": "markdown",
   "id": "b8487d8d-429b-4cbf-94a2-7482e79d8cd4",
   "metadata": {
    "heading_collapsed": true
   },
   "source": [
    "## Remove `ShowDoc` Input Cells -"
   ]
  },
  {
   "cell_type": "code",
   "execution_count": 32,
   "id": "8b58a09e-f32c-421d-9c5d-30dff9f8e802",
   "metadata": {
    "hidden": true
   },
   "outputs": [],
   "source": [
    "#export\n",
    "_re_showdoc = re.compile(r'^ShowDoc', re.MULTILINE)\n",
    "\n",
    "def _isShowDoc(cell):\n",
    "    \"Return True if cell contains ShowDoc.\"\n",
    "    return cell['cell_type'] == 'code' and _re_showdoc.search(cell.source)\n",
    "\n",
    "@preprocess_cell\n",
    "def CleanShowDoc(cell):\n",
    "    \"Ensure that ShowDoc output gets cleaned in the associated notebook.\"\n",
    "    _re_html = re.compile(r'<HTMLRemove>.*</HTMLRemove>', re.DOTALL)\n",
    "    if not _isShowDoc(cell): return\n",
    "    all_outs = [o['data'] for o in cell.outputs if 'data' in o]\n",
    "    html_outs = [o['text/html'] for o in all_outs if 'text/html' in o]\n",
    "    if len(html_outs) != 1: return\n",
    "    cleaned_html = self._re_html.sub('', html_outs[0])\n",
    "    return AttrDict({'cell_type':'raw', 'id':cell.id, 'metadata':cell.metadata, 'source':cleaned_html})"
   ]
  },
  {
   "cell_type": "code",
   "execution_count": 33,
   "id": "93eb25e3",
   "metadata": {
    "hidden": true
   },
   "outputs": [],
   "source": [
    "_result, _ = _run_preprocessor([CleanShowDoc], _test_file)\n",
    "assert '<HTMLRemove>' not in _result"
   ]
  },
  {
   "cell_type": "markdown",
   "id": "e69a70a4-4aa4-4cf6-a8ea-813c76778581",
   "metadata": {},
   "source": [
    "## Removing Headers Ending In A Dash -"
   ]
  },
  {
   "cell_type": "code",
   "execution_count": 34,
   "id": "93e27a52",
   "metadata": {},
   "outputs": [],
   "source": [
    "#export\n",
    "_re_hdr_dash = re.compile(r'^#+\\s+.*\\s+-\\s*$', re.MULTILINE)\n",
    "\n",
    "@preprocess_rm_cell\n",
    "def RmHeaderDash(cell):\n",
    "    \"Remove headings that end with a dash -\"\n",
    "    src = cell.source.strip()\n",
    "    return cell.cell_type == 'markdown' and src.startswith('#') and src.endswith(' -')"
   ]
  },
  {
   "cell_type": "code",
   "execution_count": 35,
   "id": "973bf208-7e65-4292-819f-e9926c5e4fff",
   "metadata": {},
   "outputs": [],
   "source": [
    "c, _ = _run_preprocessor([RmHeaderDash], '../tests/docs_test.ipynb')\n",
    "assert 'some words' in c\n",
    "assert 'A heading to Hide' not in c and 'Another Heading' not in c and 'Yet another heading to hide' not in c"
   ]
  },
  {
   "cell_type": "markdown",
   "id": "4bdb3cbf",
   "metadata": {},
   "source": [
    "## Remove export/hidden cells -"
   ]
  },
  {
   "cell_type": "code",
   "execution_count": 45,
   "id": "75faf537",
   "metadata": {},
   "outputs": [],
   "source": [
    "#export\n",
    "_re_export = re.compile('# *(?:export|hide)')\n",
    "\n",
    "@preprocess_rm_cell\n",
    "def RmExport(cell):\n",
    "    \"Remove cells that are exported or hidden\"\n",
    "    return cell.cell_type == 'code' and _re_export.match(cell.source.strip())"
   ]
  },
  {
   "cell_type": "code",
   "execution_count": 46,
   "id": "f57e6756",
   "metadata": {},
   "outputs": [],
   "source": [
    "c, _ = _run_preprocessor([RmExport], '../tests/docs_test.ipynb')\n",
    "assert not 'dontshow' in c"
   ]
  },
  {
   "cell_type": "markdown",
   "id": "c2bc8f89",
   "metadata": {},
   "source": [
    "## Composing Preprocessors Into A Pipeline"
   ]
  },
  {
   "cell_type": "markdown",
   "id": "7ce327f3-4bfd-4268-8224-7ce8c299aa0c",
   "metadata": {},
   "source": [
    "Lets see how you can compose all of these preprocessors together to process notebooks appropriately:"
   ]
  },
  {
   "cell_type": "code",
   "execution_count": 38,
   "id": "fb2b2a3f",
   "metadata": {},
   "outputs": [],
   "source": [
    "#export\n",
    "def default_pps():\n",
    "    \"Default Preprocessors for MDX export\"\n",
    "    return [InjectMeta, CleanMagics, BashIdentify, UpdateTags, InsertWarning, TagRemovePreprocessor,\n",
    "            CleanFlags, CleanShowDoc, RmEmptyCode, StripAnsi, HideInputLines, RmHeaderDash, RmExport,\n",
    "            ExtractAttachmentsPreprocessor, ExtractOutputPreprocessor]"
   ]
  },
  {
   "cell_type": "code",
   "execution_count": 39,
   "id": "80faf002",
   "metadata": {},
   "outputs": [],
   "source": [
    "#export\n",
    "class DocExporter:\n",
    "    \"A notebook exporter which composes preprocessors\"\n",
    "    cfg=default_pp_cfg()\n",
    "    tpl_path=(Path(__file__).parent/'tpl').resolve()\n",
    "    tpl_file='nb.md.j2'\n",
    "    pps=default_pps()\n",
    "\n",
    "    def __call__(self, file): return _doc_exporter(self.pps, self.cfg, tpl_file=self.tpl_file, tpl_path=self.tpl_path)"
   ]
  },
  {
   "cell_type": "code",
   "execution_count": 40,
   "id": "2b3190b3",
   "metadata": {},
   "outputs": [],
   "source": [
    "#export\n",
    "def nb2md(fname, dest=None, exp_cls=DocExporter):\n",
    "    \"Convert notebook to markdown and export attached/output files\"\n",
    "    if isinstance(dest,Path): dest=dest.name\n",
    "    file = Path(fname)\n",
    "    assert file.name.endswith('.ipynb'), f'{fname} is not a notebook.'\n",
    "    assert file.is_file(), f'file {fname} not found.'\n",
    "    exp = exp_cls()(file)\n",
    "\n",
    "    # https://gitlab.kwant-project.org/solidstate/lectures/-/blob/master/execute.py\n",
    "    fw = FilesWriter()\n",
    "    md = exp.from_filename(fname, resources=dict(unique_key=file.stem, output_files_dir=file.stem))\n",
    "    if dest: fw.build_directory = dest\n",
    "    return fw.write(*md, notebook_name=file.stem)"
   ]
  },
  {
   "cell_type": "code",
   "execution_count": 41,
   "id": "0a1c8e56-5f06-4323-9ee4-7785f42bf83f",
   "metadata": {},
   "outputs": [],
   "source": [
    "#When No argument for dest is passed, it will build things in the same directory as the notebook\n",
    "_test_fname = Path('../tests/docs_test.ipynb')\n",
    "\n",
    "_dest_file = Path(_test_fname).with_suffix('.md')\n",
    "_dest_file.unlink(missing_ok=True)\n",
    "nb2md(_test_fname)\n",
    "assert _dest_file.exists(), f'{_dest_file} does not exist.'"
   ]
  },
  {
   "cell_type": "code",
   "execution_count": 42,
   "id": "2ff1e3ec",
   "metadata": {},
   "outputs": [],
   "source": [
    "#When an argument for dest is passed, it will build things in the dest directory\n",
    "_test_dest = Path('build')\n",
    "_test_outp = _test_dest/'docs_test'\n",
    "_test_file = _test_dest/'docs_test.md'\n",
    "_test_file.unlink(missing_ok=True)\n",
    "if _test_outp.exists():\n",
    "    [p.unlink(missing_ok=True) for p in _test_outp.ls()]\n",
    "    _test_outp.rmdir()\n",
    "\n",
    "nb2md(_test_fname, dest=_test_dest)\n",
    "assert _test_file.exists() # make sure the markdown file does exist\n",
    "assert _test_outp.exists() # make sure the images folder exists\n",
    "assert len(_test_file.readlines()) > 10\n",
    "assert _test_outp.ls()"
   ]
  },
  {
   "cell_type": "code",
   "execution_count": 43,
   "id": "cd099edc-85c2-4729-b440-4039c2b5e41b",
   "metadata": {},
   "outputs": [],
   "source": [
    "_test_file.unlink(missing_ok=True)"
   ]
  },
  {
   "cell_type": "markdown",
   "id": "6710f5c3",
   "metadata": {},
   "source": [
    "## Export -"
   ]
  },
  {
   "cell_type": "code",
   "execution_count": 48,
   "id": "73881100",
   "metadata": {},
   "outputs": [],
   "source": [
    "#skip\n",
    "from nbprocess.export import nbs_export\n",
    "nbs_export()"
   ]
  },
  {
   "cell_type": "code",
   "execution_count": null,
   "id": "403ca264",
   "metadata": {},
   "outputs": [],
   "source": []
  }
 ],
 "metadata": {
  "kernelspec": {
   "display_name": "Python 3 (ipykernel)",
   "language": "python",
   "name": "python3"
  },
  "language_info": {
   "codemirror_mode": {
    "name": "ipython",
    "version": 3
   },
   "file_extension": ".py",
   "mimetype": "text/x-python",
   "name": "python",
   "nbconvert_exporter": "python",
   "pygments_lexer": "ipython3",
   "version": "3.9.5"
  }
 },
 "nbformat": 4,
 "nbformat_minor": 5
}
