{
 "cells": [
  {
   "cell_type": "code",
   "execution_count": 1,
   "id": "510ed03d-0c3b-4caf-910d-e6eaec08fd63",
   "metadata": {},
   "outputs": [],
   "source": [
    "#default_exp convert"
   ]
  },
  {
   "cell_type": "code",
   "execution_count": 2,
   "id": "3191cc5f-3119-4cf7-baf7-774d0f70cf99",
   "metadata": {},
   "outputs": [],
   "source": [
    "#export\n",
    "from __future__ import annotations\n",
    "from nbdev2.docexp import *\n",
    "import os,sys\n",
    "\n",
    "from nbconvert.exporters import Exporter\n",
    "from fastcore.all import Path,parallel,call_parse,bool_arg,globtastic"
   ]
  },
  {
   "cell_type": "markdown",
   "id": "82f1d405-9652-4991-9a2c-24cae862ce46",
   "metadata": {},
   "source": [
    "# Convert Notebooks To Markdown\n",
    "\n",
    "> Utilities that help you go from .ipynb -> .md"
   ]
  },
  {
   "cell_type": "code",
   "execution_count": 3,
   "id": "b62a44c2",
   "metadata": {},
   "outputs": [],
   "source": [
    "#export\n",
    "def _needs_update(fname:Path, dest:str=None):\n",
    "    \"Determines if a markdown file should be updated based on modification time relative to its notebook.\"\n",
    "    fname_out = fname.with_suffix('.md')\n",
    "    if dest: fname_out = Path(dest)/f'{fname_out.name}'\n",
    "    return not fname_out.exists() or os.path.getmtime(fname) >= os.path.getmtime(fname_out)\n",
    "\n",
    "\n",
    "@call_parse\n",
    "def export_docs(\n",
    "    path:str='.', # path or filename\n",
    "    dest:str='build', # path or filename\n",
    "    recursive:bool=True, # search subfolders\n",
    "    symlinks:bool=True, # follow symlinks?\n",
    "    n_workers:int=None, # Number of parallel workers\n",
    "    pause:int=0, # Pause between parallel launches\n",
    "    force_all:bool=False, # Force rebuild docs that are up-to-date\n",
    "    file_glob:str='*.ipynb', # Only include files matching glob\n",
    "    file_re:str=None, # Only include files matching regex\n",
    "    folder_re:str=None, # Only enter folders matching regex\n",
    "    skip_file_glob:str=None, # Skip files matching glob\n",
    "    skip_file_re:str=None, # Skip files matching regex\n",
    "    skip_folder_re:str='^[_.]' # Skip folders matching regex\n",
    "):\n",
    "    if not recursive: skip_folder_re='.'\n",
    "    files = globtastic(path, symlinks=symlinks, file_glob=file_glob, file_re=file_re,\n",
    "                       folder_re=folder_re, skip_file_glob=skip_file_glob,\n",
    "                       skip_file_re=skip_file_re, skip_folder_re=skip_folder_re\n",
    "                      ).map(Path)\n",
    "    \n",
    "    if len(files)==1: force_all,n_workers = True,0\n",
    "    if not force_all: files = [f for f in files if _needs_update(f, dest)]\n",
    "    if len(files)==0: print(\"No notebooks were modified.\")\n",
    "    else:\n",
    "        if sys.platform == \"win32\": n_workers = 0\n",
    "        passed = parallel(nb2md, files, n_workers=n_workers, pause=pause, dest=dest)\n",
    "        if not all(passed):\n",
    "            msg = \"Conversion failed on the following:\\n\"\n",
    "            print(msg + '\\n'.join([f.name for p,f in zip(passed,files) if not p]))"
   ]
  },
  {
   "cell_type": "markdown",
   "id": "c5577d9c-274c-4a3f-8948-840c76450b46",
   "metadata": {},
   "source": [
    "You can use `export_docs` to recursively convert a directory of notebooks to markdown files."
   ]
  },
  {
   "cell_type": "code",
   "execution_count": 4,
   "id": "bca6da00-1dea-42bc-8350-168b11514ce0",
   "metadata": {},
   "outputs": [
    {
     "name": "stdout",
     "output_type": "stream",
     "text": [
      "converting: ../tests/docs_test.ipynb\n"
     ]
    }
   ],
   "source": [
    "export_docs('../tests', recursive=False, n_workers=0, dest='../tests')\n",
    "_test_nbs = globtastic('../tests', file_glob='*.ipynb', skip_folder_re='^[_.]').map(Path)\n",
    "\n",
    "for f in _test_nbs:\n",
    "    _dest = f.with_suffix('.md')\n",
    "    assert _dest.exists(), f'{_dest} does not exist.'"
   ]
  },
  {
   "cell_type": "markdown",
   "id": "89e363f1-8a50-494c-9134-5d330a03f888",
   "metadata": {},
   "source": [
    "The modified times of notebooks are introspected such notebooks that haven't changed after markdown files have been created will not be converted:"
   ]
  },
  {
   "cell_type": "code",
   "execution_count": 5,
   "id": "92557d28-72a8-48a1-be0d-158084f7855a",
   "metadata": {},
   "outputs": [
    {
     "name": "stdout",
     "output_type": "stream",
     "text": [
      "converting: ../tests/docs_test.ipynb\n"
     ]
    }
   ],
   "source": [
    "export_docs('../tests', recursive=False, n_workers=0, dest='../tests')"
   ]
  },
  {
   "cell_type": "markdown",
   "id": "0835a80f-4884-45f9-a014-6833a28b2d52",
   "metadata": {},
   "source": [
    "However, you can set `force_all` = `True` to force notebooks to convert:"
   ]
  },
  {
   "cell_type": "code",
   "execution_count": 6,
   "id": "11c87870",
   "metadata": {},
   "outputs": [
    {
     "name": "stdout",
     "output_type": "stream",
     "text": [
      "converting: ../tests/docs_test.ipynb\n"
     ]
    }
   ],
   "source": [
    "export_docs('../tests', recursive=False, n_workers=0, force_all=True, dest='../tests')"
   ]
  },
  {
   "cell_type": "code",
   "execution_count": 7,
   "id": "8a937ec5-29af-42cd-bebb-79f356727f76",
   "metadata": {},
   "outputs": [],
   "source": [
    "#hide\n",
    "for f in _test_nbs: f.with_suffix('.md').unlink(missing_ok=True)"
   ]
  },
  {
   "cell_type": "markdown",
   "id": "aa35b010",
   "metadata": {},
   "source": [
    "## Export -"
   ]
  },
  {
   "cell_type": "code",
   "execution_count": 8,
   "id": "3d8031ce",
   "metadata": {},
   "outputs": [],
   "source": [
    "#skip\n",
    "from nbprocess.export import nbs_export\n",
    "nbs_export()"
   ]
  },
  {
   "cell_type": "code",
   "execution_count": null,
   "id": "43fd1f75",
   "metadata": {},
   "outputs": [],
   "source": []
  }
 ],
 "metadata": {
  "kernelspec": {
   "display_name": "Python 3 (ipykernel)",
   "language": "python",
   "name": "python3"
  },
  "language_info": {
   "codemirror_mode": {
    "name": "ipython",
    "version": 3
   },
   "file_extension": ".py",
   "mimetype": "text/x-python",
   "name": "python",
   "nbconvert_exporter": "python",
   "pygments_lexer": "ipython3",
   "version": "3.9.5"
  }
 },
 "nbformat": 4,
 "nbformat_minor": 5
}
