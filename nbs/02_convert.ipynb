{
 "cells": [
  {
   "cell_type": "code",
   "execution_count": 1,
   "id": "510ed03d-0c3b-4caf-910d-e6eaec08fd63",
   "metadata": {},
   "outputs": [],
   "source": [
    "#default_exp convert"
   ]
  },
  {
   "cell_type": "code",
   "execution_count": 2,
   "id": "3191cc5f-3119-4cf7-baf7-774d0f70cf99",
   "metadata": {},
   "outputs": [],
   "source": [
    "#export\n",
    "from __future__ import annotations\n",
    "from nbdev2.docexp import *\n",
    "import os,sys\n",
    "\n",
    "from fastcore.imports import *\n",
    "from nbconvert.exporters import Exporter\n",
    "from nbprocess.read import get_config\n",
    "from importlib import import_module\n",
    "from fastcore.all import Path,parallel,call_parse,bool_arg,globtastic\n",
    "import shutil"
   ]
  },
  {
   "cell_type": "code",
   "execution_count": 3,
   "id": "e57fd96a",
   "metadata": {},
   "outputs": [],
   "source": [
    "#hide\n",
    "__file__ = '../nbdev2/export.py'"
   ]
  },
  {
   "cell_type": "markdown",
   "id": "82f1d405-9652-4991-9a2c-24cae862ce46",
   "metadata": {},
   "source": [
    "# Convert Notebooks To Markdown\n",
    "\n",
    "> Utilities that help you go from .ipynb -> .md"
   ]
  },
  {
   "cell_type": "code",
   "execution_count": 4,
   "id": "e1d13d09",
   "metadata": {},
   "outputs": [],
   "source": [
    "#export\n",
    "class DocExporter:\n",
    "    \"A notebook exporter which composes preprocessors\"\n",
    "    \n",
    "    cfg=default_pp_cfg()\n",
    "    tpl_path=(Path(__file__).parent/'tpl').resolve()\n",
    "    tpl_file='nb.md.j2'\n",
    "    pps=default_pps()\n",
    "    \n",
    "    def __init__(self, files, dest): self.files,self.dest = files,Path(dest)\n",
    "    \n",
    "    def post_process(self):\n",
    "        idx_f = self.dest/'index.md'\n",
    "        if idx_f.exists(): shutil.copy(idx_f, idx_f.parent/'README.md')\n",
    "        \n",
    "    @property\n",
    "    def exporter(self): return doc_exporter(self.pps, self.cfg, tpl_file=self.tpl_file, tpl_path=self.tpl_path)\n",
    "    def __call__(self, file, dest): return nb2md(file, self.exporter, dest=dest)"
   ]
  },
  {
   "cell_type": "code",
   "execution_count": 5,
   "id": "3d5775a4",
   "metadata": {},
   "outputs": [],
   "source": [
    "#export\n",
    "def _needs_update(fname:Path, dest:str=None):\n",
    "    \"Determines if a markdown file should be updated based on modification time relative to its notebook.\"\n",
    "    fname_out = fname.with_suffix('.md')\n",
    "    if dest: fname_out = Path(dest)/f'{fname_out.name}'\n",
    "    return not fname_out.exists() or os.path.getmtime(fname) >= os.path.getmtime(fname_out)\n",
    "\n",
    "def _nb2md(file, docexp=None, dest=None):\n",
    "    print(f\"converting: {file}\")\n",
    "    try: return docexp(file, dest=dest)\n",
    "    except Exception as e: print(f\"{file} failed\\n{e}\")"
   ]
  },
  {
   "cell_type": "code",
   "execution_count": 6,
   "id": "b62a44c2",
   "metadata": {},
   "outputs": [],
   "source": [
    "#export\n",
    "@call_parse\n",
    "def export_docs(\n",
    "    path:str='.', # path or filename\n",
    "    dest:str=None, # path or filename\n",
    "    recursive:bool=True, # search subfolders\n",
    "    symlinks:bool=True, # follow symlinks?\n",
    "    exporter:str=None, # DocExporter subclass for SSG\n",
    "    n_workers:int=None, # Number of parallel workers\n",
    "    pause:int=0, # Pause between parallel launches\n",
    "    force_all:bool=False, # Force rebuild docs that are up-to-date\n",
    "    file_glob:str='*.ipynb', # Only include files matching glob\n",
    "    file_re:str=None, # Only include files matching regex\n",
    "    folder_re:str=None, # Only enter folders matching regex\n",
    "    skip_file_glob:str=None, # Skip files matching glob\n",
    "    skip_file_re:str=None, # Skip files matching regex\n",
    "    skip_folder_re:str='^[_.]' # Skip folders matching regex\n",
    "):\n",
    "    dest = get_config().path(\"doc_path\") if not dest else Path(dest)\n",
    "    if exporter is None: exporter = get_config().get('exporter', None)\n",
    "    if exporter is None: exp_cls=DocExporter\n",
    "    else:\n",
    "        p,m = exporter.rsplit('.', 1)\n",
    "        exp_cls = getattr(import_module(p), m)\n",
    "    if not recursive: skip_folder_re='.'\n",
    "    files = globtastic(path, symlinks=symlinks, file_glob=file_glob, file_re=file_re,\n",
    "                       folder_re=folder_re, skip_file_glob=skip_file_glob,\n",
    "                       skip_file_re=skip_file_re, skip_folder_re=skip_folder_re\n",
    "                      ).map(Path)\n",
    "    \n",
    "    if str(path).endswith('.ipynb'): force_all,n_workers = True,0\n",
    "    if not force_all: files = [f for f in files if _needs_update(f, dest)]\n",
    "    if sys.platform == \"win32\": n_workers=0\n",
    "    docexp = exp_cls(files, dest)\n",
    "    # import ipdb; ipdb.set_trace()\n",
    "    if len(files)==0: print(\"No notebooks were modified.\")\n",
    "    else: parallel(_nb2md, files, docexp=docexp, n_workers=n_workers, pause=pause, dest=dest)\n",
    "    docexp.post_process()"
   ]
  },
  {
   "cell_type": "markdown",
   "id": "c5577d9c-274c-4a3f-8948-840c76450b46",
   "metadata": {},
   "source": [
    "You can use `export_docs` to recursively convert a directory of notebooks to markdown files."
   ]
  },
  {
   "cell_type": "code",
   "execution_count": 7,
   "id": "bdfa4300",
   "metadata": {},
   "outputs": [
    {
     "name": "stdout",
     "output_type": "stream",
     "text": [
      "converting: ../tests/index.ipynb\n"
     ]
    }
   ],
   "source": [
    "export_docs('../tests', recursive=False, dest='../tests', n_workers=0)\n",
    "_test_nbs = globtastic('../tests', file_glob='*.ipynb', skip_folder_re='^[_.]').map(Path)\n",
    "\n",
    "for f in _test_nbs:\n",
    "    _dest = f.with_suffix('.md')\n",
    "    assert _dest.exists(), f'{_dest} does not exist.'\n",
    "    if _dest.name == 'index.md': assert (_dest.parent/'README.md').exists(), f'README.md was not created from index.ipynb.'"
   ]
  },
  {
   "cell_type": "markdown",
   "id": "6667ea7f-fcb7-4831-8f05-beeb53bde1f3",
   "metadata": {},
   "source": [
    "The modified times of notebooks are introspected such notebooks that haven't changed after markdown files have been created will not be converted:"
   ]
  },
  {
   "cell_type": "code",
   "execution_count": 8,
   "id": "92557d28-72a8-48a1-be0d-158084f7855a",
   "metadata": {},
   "outputs": [
    {
     "name": "stdout",
     "output_type": "stream",
     "text": [
      "No notebooks were modified.\n"
     ]
    }
   ],
   "source": [
    "export_docs('../tests', recursive=False, dest='../tests')"
   ]
  },
  {
   "cell_type": "markdown",
   "id": "0835a80f-4884-45f9-a014-6833a28b2d52",
   "metadata": {},
   "source": [
    "However, you can set `force_all` = `True` to force notebooks to convert:"
   ]
  },
  {
   "cell_type": "code",
   "execution_count": 9,
   "id": "11c87870",
   "metadata": {},
   "outputs": [
    {
     "name": "stdout",
     "output_type": "stream",
     "text": [
      "converting: ../tests/docs_test.ipynb\n",
      "converting: ../tests/index.ipynb\n"
     ]
    }
   ],
   "source": [
    "export_docs('../tests', recursive=False, force_all=True, dest='../tests')"
   ]
  },
  {
   "cell_type": "code",
   "execution_count": 10,
   "id": "8a937ec5-29af-42cd-bebb-79f356727f76",
   "metadata": {},
   "outputs": [],
   "source": [
    "#hide\n",
    "for f in _test_nbs: \n",
    "    f.with_suffix('.md').unlink(missing_ok=True)\n",
    "(_test_nbs[0].parent/'README.md').unlink(missing_ok=True)"
   ]
  },
  {
   "cell_type": "markdown",
   "id": "aa35b010",
   "metadata": {},
   "source": [
    "## Export -"
   ]
  },
  {
   "cell_type": "code",
   "execution_count": 11,
   "id": "61c7c810-506f-43e5-9d91-5e8b15568d8f",
   "metadata": {},
   "outputs": [],
   "source": [
    "#skip\n",
    "from nbprocess.export import nbs_export\n",
    "nbs_export()"
   ]
  }
 ],
 "metadata": {
  "kernelspec": {
   "display_name": "Python 3 (ipykernel)",
   "language": "python",
   "name": "python3"
  },
  "language_info": {
   "codemirror_mode": {
    "name": "ipython",
    "version": 3
   },
   "file_extension": ".py",
   "mimetype": "text/x-python",
   "name": "python",
   "nbconvert_exporter": "python",
   "pygments_lexer": "ipython3",
   "version": "3.9.7"
  }
 },
 "nbformat": 4,
 "nbformat_minor": 5
}
