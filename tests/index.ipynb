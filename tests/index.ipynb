{
 "cells": [
  {
   "cell_type": "markdown",
   "id": "d290218a-8e7b-407b-a366-971560308bff",
   "metadata": {},
   "source": [
    "# This should turn into `README.md`"
   ]
  },
  {
   "cell_type": "code",
   "execution_count": 1,
   "id": "8c39d5ad-3398-40f5-9d84-c5eced12e845",
   "metadata": {},
   "outputs": [
    {
     "name": "stdout",
     "output_type": "stream",
     "text": [
      "hello\n"
     ]
    }
   ],
   "source": [
    "print('hello')"
   ]
  }
 ],
 "metadata": {
  "kernelspec": {
   "display_name": "Python 3.9.7 ('base')",
   "language": "python",
   "name": "python397jvsc74a57bd042fd40e048e0585f88ec242f050f7ef0895cf845a8dd1159352394e5826cd102"
  },
  "language_info": {
   "codemirror_mode": {
    "name": "ipython",
    "version": 3
   },
   "file_extension": ".py",
   "mimetype": "text/x-python",
   "name": "python",
   "nbconvert_exporter": "python",
   "pygments_lexer": "ipython3",
   "version": "3.9.7"
  }
 },
 "nbformat": 4,
 "nbformat_minor": 5
}
